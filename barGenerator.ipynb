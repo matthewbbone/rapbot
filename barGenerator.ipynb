{
 "cells": [
  {
   "cell_type": "code",
   "execution_count": 1,
   "metadata": {},
   "outputs": [],
   "source": [
    "import re\n",
    "import markovify\n",
    "from sentence_transformers import SentenceTransformer, util\n",
    "import json\n",
    "import pyphen\n",
    "import pyphonetics as phono\n",
    "import pronouncing\n",
    "import praatio"
   ]
  },
  {
   "cell_type": "code",
   "execution_count": 2,
   "metadata": {},
   "outputs": [
    {
     "name": "stdout",
     "output_type": "stream",
     "text": [
      "Look, I was gonna go easy on you not to hurt your feelings\n",
      "But I'm only going to get this one chance\n",
      "(Six minutes, six minutes)\n",
      "Something's wrong, I can feel it\n",
      "(Six minutes, six minutes, Slim Shady, you're on)\n",
      "Just a feeling I've got\n",
      "Like something's about to happen\n",
      "But I don't know what\n",
      "If that means, what I think it means, we're in trouble\n",
      "Big trouble. And if he is as bananas as you say\n",
      "I'm not taking any chances\n",
      "You are just what the doc ordered\n",
      "\n",
      "I'm beginning to feel like a Rap God, Rap God\n"
     ]
    }
   ],
   "source": [
    "text = open('lyrics/eminem.txt', 'rb').read().decode(encoding='utf-8')\n",
    "text = re.sub('\\[.*\\]', '', text)\n",
    "print(text[:500])"
   ]
  },
  {
   "cell_type": "code",
   "execution_count": 3,
   "metadata": {},
   "outputs": [
    {
     "name": "stdout",
     "output_type": "stream",
     "text": [
      "Longest bar:  69\n",
      "average bar length:  7.7  words\n",
      "prop of bars less then 15 words long:  0.97\n"
     ]
    }
   ],
   "source": [
    "bars =  text.split('\\n')\n",
    "bars = [[re.sub(r'[^a-zA-Z0-9]', '', word) for word in bar.split(' ')] for bar in bars]\n",
    "\n",
    "word_text = re.sub('\\n', ' ', text)\n",
    "words = [re.sub(r'[^a-zA-Z0-9]', '', word) for word in word_text.split(' ')]\n",
    "words = [word for word in words if word != '']\n",
    "\n",
    "max = 0\n",
    "for bar in bars:\n",
    "    if len(bar) > max: max = len(bar)\n",
    "print('Longest bar: ', max)\n",
    "\n",
    "bar_lengths = [len(bar) for bar in bars]\n",
    "print('average bar length: ', round(sum(bar_lengths)/len(bar_lengths), 1), ' words')\n",
    "\n",
    "cutoff = 15\n",
    "print(f'prop of bars less then {cutoff} words long: ', round(len([bar for bar in bar_lengths if bar < cutoff]) / len(bar_lengths), 2))"
   ]
  },
  {
   "cell_type": "code",
   "execution_count": 4,
   "metadata": {},
   "outputs": [],
   "source": [
    "#unique, frequency = np.unique(np.array(words), return_counts=True)\n",
    "\n",
    "freq_dict = {}\n",
    "\n",
    "for index, word in enumerate(words):\n",
    "    if word in freq_dict:\n",
    "        freq_dict[word] = freq_dict[word] + 1\n",
    "    else: freq_dict[word] = 1\n",
    "\n",
    "vocab = sorted(list(freq_dict.keys()))\n",
    "\n",
    "top = sorted(freq_dict.items(), key=lambda x:x[1], reverse=True)[:40]\n"
   ]
  },
  {
   "cell_type": "code",
   "execution_count": 5,
   "metadata": {},
   "outputs": [],
   "source": [
    "markov_text = markovify.NewlineText(text, state_size=3)"
   ]
  },
  {
   "cell_type": "code",
   "execution_count": 6,
   "metadata": {},
   "outputs": [
    {
     "name": "stdout",
     "output_type": "stream",
     "text": [
      "I was gonna go easy on you not to let me play with it, eh?\n",
      "Turned around and got shot\n",
      "Bloodsucking succubuses, what the fuck I was white,\n",
      "But I still rap like I'm on the clock punching this time card\n",
      "She puts the lotion in the bucket, it puts the lotion in the bucket, it puts the lotion on the skin\n",
      "And what do I know?\n",
      "And raise it, you better never let it go to whoever's holding the most current beef on their shoulders\n",
      "Is critics never ask me how I'm doing\n",
      "I'm better than I ever could of asked\n",
      "Then he aimed at his own face, mosh now or die\n"
     ]
    }
   ],
   "source": [
    "for i in range(10):\n",
    "    next_bar = None\n",
    "    while next_bar is None:\n",
    "        next_bar = markov_text.make_sentence(tries = 20)\n",
    "    print(next_bar)"
   ]
  },
  {
   "cell_type": "code",
   "execution_count": 7,
   "metadata": {},
   "outputs": [],
   "source": [
    "model = SentenceTransformer('stsb-roberta-large')"
   ]
  },
  {
   "cell_type": "code",
   "execution_count": 8,
   "metadata": {},
   "outputs": [],
   "source": [
    "stop_words = json.load(open('utils/stop_words_english.json', encoding='utf-8'))\n",
    "stop_words.append('__BEGIN__')\n",
    "stop_words.append('__END__')"
   ]
  },
  {
   "cell_type": "code",
   "execution_count": 9,
   "metadata": {},
   "outputs": [],
   "source": [
    "def similarity(first, second):\n",
    "    first_vec = model.encode(first, convert_to_tensor=True)\n",
    "    second_vec = model.encode(second, convert_to_tensor=True)\n",
    "    return util.pytorch_cos_sim(first_vec, second_vec).item()"
   ]
  },
  {
   "cell_type": "code",
   "execution_count": 10,
   "metadata": {},
   "outputs": [],
   "source": [
    "# total_keywords = len(markov_text.chain.model)\n",
    "# ctr = 0\n",
    "# for keywords, next_words in markov_text.chain.model.items():\n",
    "\n",
    "#     print(f'{ctr}/{total_keywords}', end = '\\r')\n",
    "#     ctr = ctr + 1\n",
    "    \n",
    "#     semantic_words = []\n",
    "\n",
    "#     for keyword in keywords:\n",
    "#         if not re.sub(r'[^a-zA-Z0-9]', '', keyword).lower() in stop_words:\n",
    "#             semantic_words.append(keyword)\n",
    "\n",
    "#     if len(semantic_words) > 0:\n",
    "#         key_string = ' '.join(semantic_words)\n",
    "\n",
    "#         for word, freq in next_words.items():\n",
    "#             if not re.sub(r'[^a-zA-Z0-9]', '', word).lower() in stop_words:\n",
    "#                 next_words[word] = round(next_words[word] * similarity(key_string, word) * 1000)\n",
    "#             else: next_words[word] = next_words[word] * 750"
   ]
  },
  {
   "cell_type": "code",
   "execution_count": 11,
   "metadata": {},
   "outputs": [],
   "source": [
    "# model_json = markov_text.to_json()\n",
    "# with open('markov_models/eminem.json', 'w') as f:\n",
    "#     json.dump(model_json, f)"
   ]
  },
  {
   "cell_type": "code",
   "execution_count": 12,
   "metadata": {},
   "outputs": [],
   "source": [
    "saved_model = markovify.Text.from_json(json.load(open(('markov_models/semantic_eminem.json'))))"
   ]
  },
  {
   "cell_type": "code",
   "execution_count": 20,
   "metadata": {},
   "outputs": [
    {
     "name": "stdout",
     "output_type": "stream",
     "text": [
      "It seems that there is not an egomaniac that's not his motto\n",
      "Now whether you're black, white or a albino yeah\n",
      "A beacon of hope, put a B-I-R-D in the air that's making me high\n",
      "Awful, every time I think of all of the whoopdy whoop,\n"
     ]
    }
   ],
   "source": [
    "metaphone = phono.Metaphone()\n",
    "fuzzy_soundex = phono.FuzzySoundex()\n",
    "next_semantic_bar = 'Hi my name is eminem'\n",
    "bars = []\n",
    "ctr = 0\n",
    "for i in range(4):\n",
    "\n",
    "    prev_semantic_bar = next_semantic_bar\n",
    "    next_bar = None\n",
    "    corr = 0\n",
    "\n",
    "    while next_bar is None or not rhyme or corr < .3:\n",
    "\n",
    "        rhyme = False\n",
    "\n",
    "        next_bar = saved_model.make_sentence(tries=100)\n",
    "        #print(f'tries: {ctr}', end = '\\r')\n",
    "        ctr = ctr + 1\n",
    "        if not next_bar is None: \n",
    "\n",
    "            next_semantic_bar = ' '.join([word for word in next_bar.split(' ') if re.sub(r'[^a-zA-Z0-9]', '', word).lower() not in stop_words]) \n",
    "            corr = similarity(prev_semantic_bar, next_semantic_bar)\n",
    "            if corr < .3: pass\n",
    "\n",
    "            for next_word in next_semantic_bar.split(' '):\n",
    "                for prev_word in prev_semantic_bar.split(' '):\n",
    "                    if next_word in pronouncing.rhymes(prev_word):\n",
    "                         rhyme = True \n",
    "                         pass\n",
    "\n",
    "                    try: \n",
    "                        if metaphone.distance(next_word, prev_word, metric='levenshtein') == 1 or \\\n",
    "                            fuzzy_soundex.distance(next_word, prev_word, metric='levenshtein') == 1: \n",
    "                            #print(corr)\n",
    "                            rhyme = True\n",
    "                            pass\n",
    "                    except: pass\n",
    "        \n",
    "    bars.append(next_bar)\n",
    "    print(next_bar)"
   ]
  },
  {
   "cell_type": "code",
   "execution_count": 14,
   "metadata": {},
   "outputs": [
    {
     "data": {
      "text/plain": [
       "{'Soundex': 38,\n",
       " 'Metaphone': 35,\n",
       " 'Refined Soundex': 57,\n",
       " 'Fuzzy Soundex': 32,\n",
       " 'Lein': 40,\n",
       " 'Matching Rating Approach': 39}"
      ]
     },
     "execution_count": 14,
     "metadata": {},
     "output_type": "execute_result"
    }
   ],
   "source": [
    "rhyme_test = [\n",
    "    ['too', 'you'],\n",
    "    ['heavy', 'spaghetti'],\n",
    "    ['summit', 'was it'],\n",
    "    ['attack', 'back'],\n",
    "    ['chance', 'fans'],\n",
    "    ['gaping', 'taking'],\n",
    "    ['pout', 'doubt'],\n",
    "    ['shout', 'out'],\n",
    "    ['squelched', 'belched'],\n",
    "    ['smooth', 'soothe'],\n",
    "    ['agile', 'fragile'],\n",
    "    ['therein', 'wherein'],\n",
    "    ['barrage', 'garage'],\n",
    "    ['extinguish', 'distinguish'],\n",
    "    ['crucial', 'fiducial'],\n",
    "    ['diminished', 'finished'],\n",
    "    ['brilliant', 'resilient'],\n",
    "    ['behaviour', 'saviour'],\n",
    "     ['annihilated', 'violated'],\n",
    "]\n",
    "\n",
    "algos = {\n",
    "    'Soundex': 0,\n",
    "    'Metaphone': 0,\n",
    "    'Refined Soundex': 0,\n",
    "    'Fuzzy Soundex': 0,\n",
    "    'Lein': 0,\n",
    "    'Matching Rating Approach': 0\n",
    "}\n",
    "\n",
    "soundex = phono.Soundex()\n",
    "metaphone = phono.Metaphone()\n",
    "refined_soundex = phono.RefinedSoundex()\n",
    "fuzzy_soundex = phono.FuzzySoundex()\n",
    "lein = phono.Lein()\n",
    "matching_rating = phono.MatchingRatingApproach()\n",
    "\n",
    "for pair in rhyme_test:\n",
    "\n",
    "    algos['Soundex'] = algos['Soundex'] + soundex.distance(pair[0], pair[1], metric='levenshtein')\n",
    "    algos['Metaphone'] = algos['Metaphone'] + metaphone.distance(pair[0], pair[1], metric='levenshtein')\n",
    "    algos['Refined Soundex'] = algos['Refined Soundex'] + refined_soundex.distance(pair[0], pair[1], metric='levenshtein')\n",
    "    algos['Fuzzy Soundex'] = algos['Fuzzy Soundex'] + fuzzy_soundex.distance(pair[0], pair[1], metric='levenshtein')\n",
    "    algos['Lein'] = algos['Lein'] + lein.distance(pair[0], pair[1], metric='levenshtein')\n",
    "    algos['Matching Rating Approach'] = algos['Matching Rating Approach'] + matching_rating.distance(pair[0], pair[1], metric='levenshtein')\n",
    "    \n",
    "\n",
    "algos"
   ]
  },
  {
   "cell_type": "code",
   "execution_count": 15,
   "metadata": {},
   "outputs": [
    {
     "name": "stdout",
     "output_type": "stream",
     "text": [
      "[\"I'll nev-er get it back\", \"I bet-ter do some-thing quick if I'-ma be ac-cused, might as well come out now\"]\n"
     ]
    }
   ],
   "source": [
    "pyphen.language_fallback('en_US_someVariant')\n",
    "dic = pyphen.Pyphen(lang='en_US')\n",
    "dic.inserted('hello')\n",
    "\n",
    "phonetic_bars = []\n",
    "for bar in bars:\n",
    "    phonetic_bars.append(' '.join([dic.inserted(word) for word in bar.split(' ')]))\n",
    "\n",
    "print(phonetic_bars)\n",
    "\n",
    "with open('phonetic_bars.json', 'w') as f:\n",
    "    json.dump(phonetic_bars, f)"
   ]
  }
 ],
 "metadata": {
  "interpreter": {
   "hash": "d2e739743d4c0b4054f634e0ff693d7621cd65ea4fd86c0509253a1fb47e4577"
  },
  "kernelspec": {
   "display_name": "Python 3.8.13 ('rapbot_venv')",
   "language": "python",
   "name": "python3"
  },
  "language_info": {
   "codemirror_mode": {
    "name": "ipython",
    "version": 3
   },
   "file_extension": ".py",
   "mimetype": "text/x-python",
   "name": "python",
   "nbconvert_exporter": "python",
   "pygments_lexer": "ipython3",
   "version": "3.8.13"
  },
  "orig_nbformat": 4
 },
 "nbformat": 4,
 "nbformat_minor": 2
}
