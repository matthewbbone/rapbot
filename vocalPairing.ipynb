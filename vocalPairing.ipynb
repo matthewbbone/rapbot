{
 "cells": [
  {
   "cell_type": "code",
   "execution_count": 37,
   "metadata": {},
   "outputs": [],
   "source": [
    "from scipy.io import wavfile\n",
    "from sklearn.preprocessing import MinMaxScaler\n",
    "import matplotlib.pyplot as plt\n",
    "import pandas as pd\n",
    "import numpy as np\n",
    "import math"
   ]
  },
  {
   "cell_type": "code",
   "execution_count": 38,
   "metadata": {},
   "outputs": [],
   "source": [
    "\n",
    "def get_chunks(filename, seconds):\n",
    "\n",
    "    chunks = []\n",
    "\n",
    "    fs, data = wavfile.read(filename)\n",
    "    data = data[:,0]\n",
    "    chunk_length = fs * seconds\n",
    "\n",
    "    n_chunks = math.floor(len(data) / chunk_length)\n",
    "\n",
    "    for i in range(n_chunks):\n",
    "        chunks.append(data[i * chunk_length:(i+1) * chunk_length])\n",
    "\n",
    "    return {\n",
    "        'fs': fs,\n",
    "        'min': min(data),\n",
    "        'max': max(data)\n",
    "    }, chunks\n",
    "\n",
    "\n",
    "vocal_meta, vocal_chunks = get_chunks('vocals/RapGod [vocals].wav', 10)\n",
    "music_meta, music_chunks = get_chunks('music/RapGod [music].wav', 10)"
   ]
  },
  {
   "cell_type": "code",
   "execution_count": 39,
   "metadata": {},
   "outputs": [],
   "source": [
    "wavfile.write('audio/vocal_samp.wav', vocal_meta['fs'], vocal_chunks[0])\n",
    "wavfile.write('audio/music_samp.wav', music_meta['fs'], music_chunks[0])"
   ]
  },
  {
   "cell_type": "code",
   "execution_count": 40,
   "metadata": {},
   "outputs": [],
   "source": [
    "def minmax_transform(val, min, max):\n",
    "    val = np.int64(val)\n",
    "    min = np.int64(min)\n",
    "    max = np.int64(max)\n",
    "    return (val - min) / (max - min)\n",
    "\n",
    "def transform_chunks(chunks):\n",
    "     [[minmax_transform(val, mini, maxi) for val in chunk] for chunk in chunks]\n",
    "\n",
    "mini = min([vocal_meta['min'], music_meta['min']])\n",
    "maxi = max([vocal_meta['max'], music_meta['max']])\n",
    "\n",
    "vocal_chunks = transform_chunks(vocal_chunks)\n",
    "music_chunks = transform_chunks(music_chunks)"
   ]
  }
 ],
 "metadata": {
  "interpreter": {
   "hash": "d2e739743d4c0b4054f634e0ff693d7621cd65ea4fd86c0509253a1fb47e4577"
  },
  "kernelspec": {
   "display_name": "Python 3.8.13 ('rapbot_venv')",
   "language": "python",
   "name": "python3"
  },
  "language_info": {
   "codemirror_mode": {
    "name": "ipython",
    "version": 3
   },
   "file_extension": ".py",
   "mimetype": "text/x-python",
   "name": "python",
   "nbconvert_exporter": "python",
   "pygments_lexer": "ipython3",
   "version": "3.8.13"
  },
  "orig_nbformat": 4
 },
 "nbformat": 4,
 "nbformat_minor": 2
}
